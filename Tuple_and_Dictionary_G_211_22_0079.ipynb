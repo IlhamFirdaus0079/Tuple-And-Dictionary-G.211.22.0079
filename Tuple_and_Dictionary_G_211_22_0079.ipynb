{
  "nbformat": 4,
  "nbformat_minor": 0,
  "metadata": {
    "colab": {
      "provenance": []
    },
    "kernelspec": {
      "name": "python3",
      "display_name": "Python 3"
    },
    "language_info": {
      "name": "python"
    }
  },
  "cells": [
    {
      "cell_type": "markdown",
      "source": [
        "TUPLE"
      ],
      "metadata": {
        "id": "89KqMI2oacZw"
      }
    },
    {
      "cell_type": "code",
      "execution_count": null,
      "metadata": {
        "colab": {
          "base_uri": "https://localhost:8080/"
        },
        "id": "5uNdyvIoVVJc",
        "outputId": "f7328911-736d-434c-8fd7-7b717a39b55a"
      },
      "outputs": [
        {
          "output_type": "stream",
          "name": "stdout",
          "text": [
            "11\n",
            "72\n",
            "(15, 43)\n"
          ]
        }
      ],
      "source": [
        "my_tuple = (11, 15, 43, 56, 72)\n",
        "\n",
        "# Mengakses elemen berdasarkan indeks\n",
        "print(my_tuple[0])\n",
        "print(my_tuple[4])\n",
        "\n",
        "# Menggunakan slicing untuk mengakses sebagian tuple\n",
        "print(my_tuple[1:3])"
      ]
    },
    {
      "cell_type": "markdown",
      "source": [
        "Menggabungkan Tuple"
      ],
      "metadata": {
        "id": "w-yykqv3VmGA"
      }
    },
    {
      "cell_type": "code",
      "source": [
        "tuple1 = (11, 12, 13)\n",
        "tuple2 = (24, 25, 26)\n",
        "\n",
        "combined_tuple = tuple1 + tuple2\n",
        "print(combined_tuple)"
      ],
      "metadata": {
        "colab": {
          "base_uri": "https://localhost:8080/"
        },
        "id": "eFJmbIXXVbvh",
        "outputId": "dfea15ba-f651-4629-81a7-16246779433e"
      },
      "execution_count": null,
      "outputs": [
        {
          "output_type": "stream",
          "name": "stdout",
          "text": [
            "(11, 12, 13, 24, 25, 26)\n"
          ]
        }
      ]
    },
    {
      "cell_type": "markdown",
      "source": [
        "Mengetahui Panjang Tuple"
      ],
      "metadata": {
        "id": "UBypoTOFVibx"
      }
    },
    {
      "cell_type": "code",
      "source": [
        "my_tuple = (11, 12, 13, 24, 25, 26)\n",
        "length = len(my_tuple)\n",
        "print(length)"
      ],
      "metadata": {
        "colab": {
          "base_uri": "https://localhost:8080/"
        },
        "id": "EZb_7YDFVgMb",
        "outputId": "b9bc1018-dd7a-479f-f91a-431a31e10278"
      },
      "execution_count": null,
      "outputs": [
        {
          "output_type": "stream",
          "name": "stdout",
          "text": [
            "6\n"
          ]
        }
      ]
    },
    {
      "cell_type": "markdown",
      "source": [
        "Mengetahui Jumlah Kemunculan Elemen dalam Tuple"
      ],
      "metadata": {
        "id": "b35qLq2TVwyB"
      }
    },
    {
      "cell_type": "code",
      "source": [
        "my_tuple = (11, 25, 25, 24, 25, 26, 11, 25)\n",
        "count = my_tuple.count(25)\n",
        "print(count)"
      ],
      "metadata": {
        "colab": {
          "base_uri": "https://localhost:8080/"
        },
        "id": "o_gyh5-1V_C1",
        "outputId": "6b6f6ab9-dfb5-4c97-e7fa-b1ff20b021b8"
      },
      "execution_count": null,
      "outputs": [
        {
          "output_type": "stream",
          "name": "stdout",
          "text": [
            "4\n"
          ]
        }
      ]
    },
    {
      "cell_type": "markdown",
      "source": [
        "Mengetahui Indeks Pertama Kemunculan Elemen dalam Tuple"
      ],
      "metadata": {
        "id": "N5LujOqyX2XN"
      }
    },
    {
      "cell_type": "code",
      "source": [
        "my_tuple = (11, 25, 25, 24, 25, 26, 11, 25)\n",
        "index = my_tuple.index(26)\n",
        "print(index)"
      ],
      "metadata": {
        "colab": {
          "base_uri": "https://localhost:8080/"
        },
        "id": "dPXVuIoRX7el",
        "outputId": "7952b97d-1fcf-49b0-f045-d33544371c87"
      },
      "execution_count": null,
      "outputs": [
        {
          "output_type": "stream",
          "name": "stdout",
          "text": [
            "5\n"
          ]
        }
      ]
    },
    {
      "cell_type": "markdown",
      "source": [
        "DICTIONARY"
      ],
      "metadata": {
        "id": "2tArmGgVX-lZ"
      }
    },
    {
      "cell_type": "code",
      "source": [
        "person = {\n",
        "    \"Nama\": \"Cristiano Ronaldo\",\n",
        "    \"Umur\": \"38\",\n",
        "    \"No.Tlp\": \"083154088540\",\n",
        "    \"Pekerjaan\": \"Pesebakbola\"\n",
        "}\n",
        "\n",
        "# Mengakses nilai berdasarkan kunci (key)\n",
        "print(person[\"Nama\"])\n",
        "print(person[\"Umur\"])\n",
        "print(person[\"No.Tlp\"])\n",
        "print(person[\"Pekerjaan\"])"
      ],
      "metadata": {
        "colab": {
          "base_uri": "https://localhost:8080/"
        },
        "id": "nxaOdVppYD7y",
        "outputId": "c7a4fa92-c9b9-4806-ee0a-c10683666876"
      },
      "execution_count": null,
      "outputs": [
        {
          "output_type": "stream",
          "name": "stdout",
          "text": [
            "Cristiano Ronaldo\n",
            "38\n",
            "083154088540\n",
            "Pesebakbola\n"
          ]
        }
      ]
    },
    {
      "cell_type": "markdown",
      "source": [
        "Menambahkan Elemen Dictionary"
      ],
      "metadata": {
        "id": "Zdf6_j4MYfgQ"
      }
    },
    {
      "cell_type": "code",
      "source": [
        "person = {\n",
        "    \"Nama\": \"Cristiano Ronaldo\",\n",
        "    \"Umur\": \"38\",\n",
        "    \"No.Tlp\": \"083154088540\",\n",
        "    \"Pekerjaan\": \"Pesepakbola\"\n",
        "}\n",
        "\n",
        "person[\"Alamat\"] = \"Lisbon\""
      ],
      "metadata": {
        "id": "12pKEpsRYjaU"
      },
      "execution_count": null,
      "outputs": []
    },
    {
      "cell_type": "code",
      "source": [
        "# Mengakses nilai berdasarkan kunci (key)\n",
        "print(person[\"Nama\"])\n",
        "print(person[\"Umur\"])\n",
        "print(person[\"No.Tlp\"])\n",
        "print(person[\"Pekerjaan\"])\n",
        "print(person[\"Alamat\"])"
      ],
      "metadata": {
        "colab": {
          "base_uri": "https://localhost:8080/"
        },
        "id": "P9biMU4lZQDH",
        "outputId": "af5e3be1-1531-4700-f6e2-a8a3dcb1d5fe"
      },
      "execution_count": null,
      "outputs": [
        {
          "output_type": "stream",
          "name": "stdout",
          "text": [
            "Cristiano Ronaldo\n",
            "38\n",
            "083154088540\n",
            "Pesepakbola\n",
            "Lisbon\n"
          ]
        }
      ]
    },
    {
      "cell_type": "markdown",
      "source": [
        "Mengubah Nilai Elemen Dictionary"
      ],
      "metadata": {
        "id": "j5ubg9J1ZnVb"
      }
    },
    {
      "cell_type": "code",
      "source": [
        "person[\"Pekerjaan\"] = \"Petarung MMA\""
      ],
      "metadata": {
        "id": "FT5hdlJ0Zqiy"
      },
      "execution_count": null,
      "outputs": []
    },
    {
      "cell_type": "code",
      "source": [
        "# Mengakses nilai berdasarkan kunci (key)\n",
        "print(person[\"Nama\"])\n",
        "print(person[\"Umur\"])\n",
        "print(person[\"No.Tlp\"])\n",
        "print(person[\"Pekerjaan\"])\n",
        "print(person[\"Alamat\"])"
      ],
      "metadata": {
        "colab": {
          "base_uri": "https://localhost:8080/"
        },
        "id": "uOandhRdZzM8",
        "outputId": "ab3d30fb-854c-43fc-d481-0c23a65481b0"
      },
      "execution_count": null,
      "outputs": [
        {
          "output_type": "stream",
          "name": "stdout",
          "text": [
            "Cristiano Ronaldo\n",
            "38\n",
            "083154088540\n",
            "Petarung MMA\n",
            "Lisbon\n"
          ]
        }
      ]
    },
    {
      "cell_type": "markdown",
      "source": [
        "Menghapus Elemen Dictionary"
      ],
      "metadata": {
        "id": "X8BOdIfcZ9WP"
      }
    },
    {
      "cell_type": "code",
      "source": [
        "del person[\"No.Tlp\"]\n",
        "print(person)"
      ],
      "metadata": {
        "colab": {
          "base_uri": "https://localhost:8080/"
        },
        "id": "mS1jb3gGZ_TO",
        "outputId": "f690551f-5ef0-4d3f-fb31-3719b03657a7"
      },
      "execution_count": null,
      "outputs": [
        {
          "output_type": "stream",
          "name": "stdout",
          "text": [
            "{'Nama': 'Cristiano Ronaldo', 'Umur': '38', 'Pekerjaan': 'Petarung MMA', 'Alamat': 'Lisbon'}\n"
          ]
        }
      ]
    }
  ]
}